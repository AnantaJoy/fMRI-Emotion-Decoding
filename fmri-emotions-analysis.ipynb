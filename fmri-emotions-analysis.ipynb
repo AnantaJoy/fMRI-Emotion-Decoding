{
 "cells": [
  {
   "cell_type": "markdown",
   "id": "be413df7",
   "metadata": {
    "papermill": {
     "duration": 0.002824,
     "end_time": "2022-09-03T02:20:56.599495",
     "exception": false,
     "start_time": "2022-09-03T02:20:56.596671",
     "status": "completed"
    },
    "tags": []
   },
   "source": [
    "Important Resources:\n",
    "\n",
    "* Paper Link: [Localizing Brain Function Based on Full Multivariate Activity Patterns: The Case of Visual Perception and Emotion Decoding](https://www.biorxiv.org/content/10.1101/2021.04.04.438425v2)\n",
    "* Data Link: [Emotion Category and Face Perception Task Optimized for Multivariate Pattern Analysis](https://openneuro.org/datasets/ds003548/versions/1.0.0)\n",
    "* 3D Visualization: [Neuvault](https://neurovault.org/collections/9492/)\n",
    "* Code Link [[1]](https://github.com/isacdaavid/emotional-faces-psychopy-task)[[2]](https://github.com/isacdaavid/np-mvpa)\n",
    "* https://neurovault.org/\n",
    "* https://brainlife.io/datasets"
   ]
  },
  {
   "cell_type": "code",
   "execution_count": 1,
   "id": "efc1aef8",
   "metadata": {
    "_cell_guid": "b1076dfc-b9ad-4769-8c92-a6c4dae69d19",
    "_uuid": "8f2839f25d086af736a60e9eeb907d3b93b6e0e5",
    "execution": {
     "iopub.execute_input": "2022-09-03T02:20:56.605211Z",
     "iopub.status.busy": "2022-09-03T02:20:56.604693Z",
     "iopub.status.idle": "2022-09-03T02:20:56.651034Z",
     "shell.execute_reply": "2022-09-03T02:20:56.649749Z"
    },
    "papermill": {
     "duration": 0.053162,
     "end_time": "2022-09-03T02:20:56.654489",
     "exception": false,
     "start_time": "2022-09-03T02:20:56.601327",
     "status": "completed"
    },
    "tags": []
   },
   "outputs": [
    {
     "name": "stdout",
     "output_type": "stream",
     "text": [
      "/kaggle/input/fmri-dataset-for-emotion-recognition/Sub-04/wrsub-04_task-emotionalfaces_run-2_bold.nii\n",
      "/kaggle/input/fmri-dataset-for-emotion-recognition/Sub-04/wrsub-04_task-emotionalfaces_run-1_bold.nii\n",
      "/kaggle/input/fmri-dataset-for-emotion-recognition/Sub-04/wrsub-04_task-emotionalfaces_run-3_bold.nii\n",
      "/kaggle/input/fmri-dataset-for-emotion-recognition/Sub-04/wrsub-04_task-emotionalfaces_run-5_bold.nii\n",
      "/kaggle/input/fmri-dataset-for-emotion-recognition/Sub-04/wrsub-04_task-emotionalfaces_run-4_bold.nii\n",
      "/kaggle/input/fmri-dataset-for-emotion-recognition/Sub-02/wrsub-02_task-emotionalfaces_run-3_bold.nii\n",
      "/kaggle/input/fmri-dataset-for-emotion-recognition/Sub-02/wrsub-02_task-emotionalfaces_run-2_bold.nii\n",
      "/kaggle/input/fmri-dataset-for-emotion-recognition/Sub-02/wrsub-02_task-emotionalfaces_run-1_bold.nii\n",
      "/kaggle/input/fmri-dataset-for-emotion-recognition/Sub-02/wrsub-02_task-emotionalfaces_run-5_bold.nii\n",
      "/kaggle/input/fmri-dataset-for-emotion-recognition/Sub-02/wrsub-02_task-emotionalfaces_run-4_bold.nii\n",
      "/kaggle/input/fmri-dataset-for-emotion-recognition/Sub-05/wrsub-05_task-emotionalfaces_run-5_bold.nii\n",
      "/kaggle/input/fmri-dataset-for-emotion-recognition/Sub-05/wrsub-05_task-emotionalfaces_run-4_bold.nii\n",
      "/kaggle/input/fmri-dataset-for-emotion-recognition/Sub-05/wrsub-05_task-emotionalfaces_run-2_bold.nii\n",
      "/kaggle/input/fmri-dataset-for-emotion-recognition/Sub-05/wrsub-05_task-emotionalfaces_run-1_bold.nii\n",
      "/kaggle/input/fmri-dataset-for-emotion-recognition/Sub-05/wrsub-05_task-emotionalfaces_run-3_bold.nii\n",
      "/kaggle/input/fmri-dataset-for-emotion-recognition/onsetime/task-emotionalfaces_run-2_events.tsv\n",
      "/kaggle/input/fmri-dataset-for-emotion-recognition/onsetime/task-emotionalfaces_run-5_events.tsv\n",
      "/kaggle/input/fmri-dataset-for-emotion-recognition/onsetime/conmatrix_Run1.mat\n",
      "/kaggle/input/fmri-dataset-for-emotion-recognition/onsetime/conmatrix_Run2.mat\n",
      "/kaggle/input/fmri-dataset-for-emotion-recognition/onsetime/task-emotionalfaces_run-3_events.tsv\n",
      "/kaggle/input/fmri-dataset-for-emotion-recognition/onsetime/conmatrix_Run5.mat\n",
      "/kaggle/input/fmri-dataset-for-emotion-recognition/onsetime/conmatrix_Run3.mat\n",
      "/kaggle/input/fmri-dataset-for-emotion-recognition/onsetime/task-emotionalfaces_run-1_events.tsv\n",
      "/kaggle/input/fmri-dataset-for-emotion-recognition/onsetime/conmatrix_Run4.mat\n",
      "/kaggle/input/fmri-dataset-for-emotion-recognition/onsetime/task-emotionalfaces_run-4_events.tsv\n",
      "/kaggle/input/fmri-dataset-for-emotion-recognition/Sub-01/wrsub-01_task-emotionalfaces_run-1_bold.nii\n",
      "/kaggle/input/fmri-dataset-for-emotion-recognition/Sub-01/wrsub-01_task-emotionalfaces_run-2_bold.nii\n",
      "/kaggle/input/fmri-dataset-for-emotion-recognition/Sub-01/wrsub-01_task-emotionalfaces_run-3_bold.nii\n",
      "/kaggle/input/fmri-dataset-for-emotion-recognition/Sub-01/wrsub-01_task-emotionalfaces_run-5_bold.nii\n",
      "/kaggle/input/fmri-dataset-for-emotion-recognition/Sub-01/wrsub-01_task-emotionalfaces_run-4_bold.nii\n",
      "/kaggle/input/fmri-dataset-for-emotion-recognition/Sub-03/wrsub-03_task-emotionalfaces_run-5_bold.nii\n",
      "/kaggle/input/fmri-dataset-for-emotion-recognition/Sub-03/wrsub-03_task-emotionalfaces_run-2_bold.nii\n",
      "/kaggle/input/fmri-dataset-for-emotion-recognition/Sub-03/wrsub-03_task-emotionalfaces_run-4_bold.nii\n",
      "/kaggle/input/fmri-dataset-for-emotion-recognition/Sub-03/wrsub-03_task-emotionalfaces_run-3_bold.nii\n",
      "/kaggle/input/fmri-dataset-for-emotion-recognition/Sub-03/wrsub-03_task-emotionalfaces_run-1_bold.nii\n"
     ]
    }
   ],
   "source": [
    "# This Python 3 environment comes with many helpful analytics libraries installed\n",
    "# It is defined by the kaggle/python Docker image: https://github.com/kaggle/docker-python\n",
    "# For example, here's several helpful packages to load\n",
    "\n",
    "import numpy as np # linear algebra\n",
    "import pandas as pd # data processing, CSV file I/O (e.g. pd.read_csv)\n",
    "\n",
    "# Input data files are available in the read-only \"../input/\" directory\n",
    "# For example, running this (by clicking run or pressing Shift+Enter) will list all files under the input directory\n",
    "\n",
    "import os\n",
    "for dirname, _, filenames in os.walk('/kaggle/input'):\n",
    "    for filename in filenames:\n",
    "        print(os.path.join(dirname, filename))\n",
    "\n",
    "# You can write up to 20GB to the current directory (/kaggle/working/) that gets preserved as output when you create a version using \"Save & Run All\" \n",
    "# You can also write temporary files to /kaggle/temp/, but they won't be saved outside of the current session"
   ]
  }
 ],
 "metadata": {
  "kernelspec": {
   "display_name": "Python 3",
   "language": "python",
   "name": "python3"
  },
  "language_info": {
   "codemirror_mode": {
    "name": "ipython",
    "version": 3
   },
   "file_extension": ".py",
   "mimetype": "text/x-python",
   "name": "python",
   "nbconvert_exporter": "python",
   "pygments_lexer": "ipython3",
   "version": "3.7.12"
  },
  "papermill": {
   "default_parameters": {},
   "duration": 10.410313,
   "end_time": "2022-09-03T02:20:57.380499",
   "environment_variables": {},
   "exception": null,
   "input_path": "__notebook__.ipynb",
   "output_path": "__notebook__.ipynb",
   "parameters": {},
   "start_time": "2022-09-03T02:20:46.970186",
   "version": "2.3.4"
  }
 },
 "nbformat": 4,
 "nbformat_minor": 5
}
